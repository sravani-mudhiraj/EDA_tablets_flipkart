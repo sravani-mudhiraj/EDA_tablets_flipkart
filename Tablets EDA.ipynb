{
 "cells": [
  {
   "cell_type": "markdown",
   "id": "343f4152",
   "metadata": {},
   "source": [
    "# Best Tablet in Flipkart"
   ]
  },
  {
   "cell_type": "markdown",
   "id": "e1158fc9",
   "metadata": {},
   "source": [
    "### Importing Required Modules"
   ]
  },
  {
   "cell_type": "code",
   "execution_count": 38,
   "id": "e370f8e9",
   "metadata": {},
   "outputs": [],
   "source": [
    "import requests\n",
    "import re\n",
    "from bs4 import BeautifulSoup\n",
    "import numpy as np\n",
    "import pandas as pd\n",
    "import matplotlib.pyplot as plt\n",
    "import seaborn as sea"
   ]
  },
  {
   "cell_type": "markdown",
   "id": "a20108fc",
   "metadata": {},
   "source": [
    "### Web Scraping using Regex"
   ]
  },
  {
   "cell_type": "code",
   "execution_count": 9,
   "id": "d8abc1e2",
   "metadata": {},
   "outputs": [],
   "source": [
    "title = []\n",
    "price = []\n",
    "ratings = []\n",
    "rom = []\n",
    "color = []\n",
    "inch = []\n",
    "pc = []\n",
    "front = []\n",
    "battery = []\n",
    "warranty = []\n",
    "cm = []\n",
    "wifi = []\n",
    "for i in range(1,26):\n",
    "    url = f\"https://www.flipkart.com/search?q=tablets&otracker=search&otracker1=search&marketplace=FLIPKART&as-show=on&as=off&page={i}\"\n",
    "    request_header = {'Content-Type': 'text/html; charset=UTF-8','User-Agent': 'Chrome/101.0.0.0 (Windows NT 10.0; Win64; x64; rv:109.0) Gecko/20100101 Firefox/119.0','Accept-Encoding': 'gzip, deflate, br'}\n",
    "\n",
    "    page = requests.get(url,headers =request_header)\n",
    "    soup = BeautifulSoup(page.text)\n",
    "    \n",
    "    for i in soup.find_all(\"div\",class_='tUxRFH'):\n",
    "        \n",
    "        #title\n",
    "        Title = i.find('div',class_='KzDlHZ')\n",
    "        if Title:\n",
    "            text1 = Title.text\n",
    "            regex1 = re.findall('\\w+',text1)\n",
    "            if regex1:\n",
    "                title.append(regex1[0])\n",
    "            else:\n",
    "                title.append(np.nan)\n",
    "                \n",
    "        # price\n",
    "        Price = i.find('div',class_='Nx9bqj _4b5DiR')\n",
    "        if Price:\n",
    "            text2 = Price.text\n",
    "            text_replace = text2.replace('₹','').replace(',','')\n",
    "            price.append(text_replace)\n",
    "                \n",
    "        #ratings\n",
    "        Ratings = i.find('div',class_='XQDdHH')\n",
    "        if Ratings:\n",
    "            text3 = Ratings.text\n",
    "            ratings.append(text3)\n",
    "        else:\n",
    "            ratings.append(np.nan)\n",
    "            \n",
    "        \"\"\"#ram\n",
    "        Ram = i.find('div',class_='KzDlHZ')\n",
    "        if Ram:\n",
    "            text4 = Ram.text\n",
    "            regex4 = re.findall('(\\d+)\\sGB RAM',text4)\n",
    "            if regex4:\n",
    "                ram.append(regex4[0])\n",
    "            else:\n",
    "                ram.append(np.nan)\"\"\"\n",
    "                \n",
    "        #rom\n",
    "        Rom = i.find('div',class_='KzDlHZ')\n",
    "        if Rom:\n",
    "            text5 = Rom.text\n",
    "            regex5 = re.findall('(\\d+)\\sGB ROM',text5)\n",
    "            if regex5:\n",
    "                rom.append(regex5[0])\n",
    "            else:\n",
    "                rom.append(np.nan)\n",
    "                \n",
    "        #color\n",
    "        Color = i.find('div',class_='KzDlHZ')\n",
    "        if Color:\n",
    "            text6 = Color.text\n",
    "            regex6 = re.findall('\\s\\(([^\\d]\\w+\\s?\\w+)\\)',text6)\n",
    "            if regex6:\n",
    "                color.append(regex6[0])\n",
    "            else:\n",
    "                color.append(np.nan)\n",
    "                \n",
    "        \"\"\"#inch\n",
    "        Inch = i.find('div',class_='_6NESgJ')\n",
    "        if Inch:\n",
    "            text7 = Inch.text\n",
    "            regex7 = re.findall('\\((\\d+\\.\\d+)\\s\\w+\\)',text7)\n",
    "            if regex7:\n",
    "                inch.append(regex7[0])\n",
    "            else:\n",
    "                inch.append(np.nan)\"\"\"\n",
    "                \n",
    "        #pc\n",
    "        Pc = i.find('div',class_='_6NESgJ')\n",
    "        if Pc:\n",
    "            text8 = Pc.text\n",
    "            regex8 = re.findall('Display(\\d.+|\\d+) MP Primary Camera',text8)\n",
    "            if regex8:\n",
    "                pc.append(regex8[0])\n",
    "            else:\n",
    "                pc.append(np.nan)\n",
    "                \n",
    "        #front \n",
    "        Front = i.find('div',class_='_6NESgJ')\n",
    "        if Front:\n",
    "            text9 = Front.text\n",
    "            regex9 = re.findall('(\\d+) MP Front',text9)\n",
    "            if regex9:\n",
    "                front.append(regex9[0])\n",
    "            else:\n",
    "                front.append(np.nan)\n",
    "                \n",
    "        #battery\n",
    "        Battery = i.find('div',class_='_6NESgJ')\n",
    "        if Battery:\n",
    "            text10 = Battery.text\n",
    "            regex10 = re.findall('Battery:\\s(\\d+)\\s\\w+',text10)\n",
    "            if regex10:\n",
    "                battery.append(regex10[0])\n",
    "            else:\n",
    "                battery.append(np.nan)\n",
    "                \n",
    "        #warranty\n",
    "        Warranty = i.find('div',class_='_6NESgJ')\n",
    "        if Warranty:\n",
    "            text11 = Warranty.text\n",
    "            regex11 = re.findall('(\\d)\\sYear',text11)\n",
    "            if regex11:\n",
    "                warranty.append(regex11[0])\n",
    "            else:\n",
    "                warranty.append(np.nan)\n",
    "                \n",
    "        #cm\n",
    "        Cm = i.find('div',class_='_6NESgJ')\n",
    "        if Cm:\n",
    "            text12 = Cm.text\n",
    "            regex12 = re.findall('(\\d+\\.\\d+\\s)cm',text12)\n",
    "            if regex12:\n",
    "                cm.append(regex12[0])\n",
    "            else:\n",
    "                cm.append(np.nan)\n",
    "                \n",
    "                                 \n",
    "        #wifi        \n",
    "        Wifi = i.find('div',class_='KzDlHZ')\n",
    "        if Wifi:\n",
    "            text13 = Wifi.text\n",
    "            regex13 = re.findall('with\\s(\\w+-\\w+\\+?\\w+)\\s',text13)\n",
    "            if regex13:\n",
    "                wifi.append(regex13[0])\n",
    "            else:\n",
    "                wifi.append(np.nan)"
   ]
  },
  {
   "cell_type": "code",
   "execution_count": 10,
   "id": "72d72d28",
   "metadata": {},
   "outputs": [],
   "source": [
    "Dict1 = {'Brand':title,'Storage':rom,\"Color\":color,'Display_Cm':cm,\n",
    "         'Primary_Camera':pc,'Front_Camera':front,'Battery':battery,'Warranty':warranty,\n",
    "         'Wifi':wifi,'Ratings':ratings,'Price':price}"
   ]
  },
  {
   "cell_type": "code",
   "execution_count": 11,
   "id": "2c1c14a2",
   "metadata": {},
   "outputs": [
    {
     "data": {
      "text/html": [
       "<div>\n",
       "<style scoped>\n",
       "    .dataframe tbody tr th:only-of-type {\n",
       "        vertical-align: middle;\n",
       "    }\n",
       "\n",
       "    .dataframe tbody tr th {\n",
       "        vertical-align: top;\n",
       "    }\n",
       "\n",
       "    .dataframe thead th {\n",
       "        text-align: right;\n",
       "    }\n",
       "</style>\n",
       "<table border=\"1\" class=\"dataframe\">\n",
       "  <thead>\n",
       "    <tr style=\"text-align: right;\">\n",
       "      <th></th>\n",
       "      <th>Brand</th>\n",
       "      <th>Storage</th>\n",
       "      <th>Color</th>\n",
       "      <th>Display_Cm</th>\n",
       "      <th>Primary_Camera</th>\n",
       "      <th>Front_Camera</th>\n",
       "      <th>Battery</th>\n",
       "      <th>Warranty</th>\n",
       "      <th>Wifi</th>\n",
       "      <th>Ratings</th>\n",
       "      <th>Price</th>\n",
       "    </tr>\n",
       "  </thead>\n",
       "  <tbody>\n",
       "    <tr>\n",
       "      <th>0</th>\n",
       "      <td>Lenovo</td>\n",
       "      <td>128</td>\n",
       "      <td>Storm Grey</td>\n",
       "      <td>26.95</td>\n",
       "      <td>8</td>\n",
       "      <td>8</td>\n",
       "      <td>7700</td>\n",
       "      <td>1</td>\n",
       "      <td>Wi-Fi+4G</td>\n",
       "      <td>4.3</td>\n",
       "      <td>15499</td>\n",
       "    </tr>\n",
       "    <tr>\n",
       "      <th>1</th>\n",
       "      <td>Lenovo</td>\n",
       "      <td>128</td>\n",
       "      <td>Seafoam Green</td>\n",
       "      <td>27.81</td>\n",
       "      <td>13</td>\n",
       "      <td>8</td>\n",
       "      <td>7040</td>\n",
       "      <td>1</td>\n",
       "      <td>Wi-Fi+4G</td>\n",
       "      <td>4.3</td>\n",
       "      <td>21999</td>\n",
       "    </tr>\n",
       "    <tr>\n",
       "      <th>2</th>\n",
       "      <td>REDMI</td>\n",
       "      <td>128</td>\n",
       "      <td>Graphite Gray</td>\n",
       "      <td>26.95</td>\n",
       "      <td>8.0</td>\n",
       "      <td>8</td>\n",
       "      <td>8000</td>\n",
       "      <td>1</td>\n",
       "      <td>Wi-Fi</td>\n",
       "      <td>4.4</td>\n",
       "      <td>14999</td>\n",
       "    </tr>\n",
       "    <tr>\n",
       "      <th>3</th>\n",
       "      <td>SAMSUNG</td>\n",
       "      <td>128</td>\n",
       "      <td>Graphite</td>\n",
       "      <td>27.94</td>\n",
       "      <td>8.0</td>\n",
       "      <td>5</td>\n",
       "      <td>5100</td>\n",
       "      <td>1</td>\n",
       "      <td>Wi-Fi+5G</td>\n",
       "      <td>4.5</td>\n",
       "      <td>24999</td>\n",
       "    </tr>\n",
       "    <tr>\n",
       "      <th>4</th>\n",
       "      <td>MOTOROLA</td>\n",
       "      <td>128</td>\n",
       "      <td>Frost Blue</td>\n",
       "      <td>26.95</td>\n",
       "      <td>8.0</td>\n",
       "      <td>8</td>\n",
       "      <td>7700</td>\n",
       "      <td>1</td>\n",
       "      <td>Wi-Fi+4G</td>\n",
       "      <td>4.2</td>\n",
       "      <td>12999</td>\n",
       "    </tr>\n",
       "    <tr>\n",
       "      <th>...</th>\n",
       "      <td>...</td>\n",
       "      <td>...</td>\n",
       "      <td>...</td>\n",
       "      <td>...</td>\n",
       "      <td>...</td>\n",
       "      <td>...</td>\n",
       "      <td>...</td>\n",
       "      <td>...</td>\n",
       "      <td>...</td>\n",
       "      <td>...</td>\n",
       "      <td>...</td>\n",
       "    </tr>\n",
       "    <tr>\n",
       "      <th>595</th>\n",
       "      <td>Apple</td>\n",
       "      <td>32</td>\n",
       "      <td>Space Grey</td>\n",
       "      <td>24.64</td>\n",
       "      <td>8.0</td>\n",
       "      <td>2</td>\n",
       "      <td>NaN</td>\n",
       "      <td>1</td>\n",
       "      <td>Wi-Fi</td>\n",
       "      <td>4.6</td>\n",
       "      <td>28000</td>\n",
       "    </tr>\n",
       "    <tr>\n",
       "      <th>596</th>\n",
       "      <td>Alcatel</td>\n",
       "      <td>16</td>\n",
       "      <td>Volcano Black</td>\n",
       "      <td>17.78</td>\n",
       "      <td>8</td>\n",
       "      <td>5</td>\n",
       "      <td>4000</td>\n",
       "      <td>1</td>\n",
       "      <td>Wi-Fi+4G</td>\n",
       "      <td>3.6</td>\n",
       "      <td>6999</td>\n",
       "    </tr>\n",
       "    <tr>\n",
       "      <th>597</th>\n",
       "      <td>SAMSUNG</td>\n",
       "      <td>128</td>\n",
       "      <td>Mystic Bronze</td>\n",
       "      <td>31.5</td>\n",
       "      <td>13</td>\n",
       "      <td>8</td>\n",
       "      <td>10090</td>\n",
       "      <td>1</td>\n",
       "      <td>Wi-Fi</td>\n",
       "      <td>4.7</td>\n",
       "      <td>51999</td>\n",
       "    </tr>\n",
       "    <tr>\n",
       "      <th>598</th>\n",
       "      <td>Apple</td>\n",
       "      <td>128</td>\n",
       "      <td>Gold</td>\n",
       "      <td>20.07</td>\n",
       "      <td>8.0</td>\n",
       "      <td>NaN</td>\n",
       "      <td>NaN</td>\n",
       "      <td>1</td>\n",
       "      <td>Wi-Fi</td>\n",
       "      <td>4.4</td>\n",
       "      <td>33800</td>\n",
       "    </tr>\n",
       "    <tr>\n",
       "      <th>599</th>\n",
       "      <td>Apple</td>\n",
       "      <td>128</td>\n",
       "      <td>Space Grey</td>\n",
       "      <td>20.07</td>\n",
       "      <td>8.0</td>\n",
       "      <td>NaN</td>\n",
       "      <td>NaN</td>\n",
       "      <td>1</td>\n",
       "      <td>Wi-Fi</td>\n",
       "      <td>4.4</td>\n",
       "      <td>33800</td>\n",
       "    </tr>\n",
       "  </tbody>\n",
       "</table>\n",
       "<p>600 rows × 11 columns</p>\n",
       "</div>"
      ],
      "text/plain": [
       "        Brand Storage          Color Display_Cm Primary_Camera Front_Camera  \\\n",
       "0      Lenovo     128     Storm Grey     26.95               8            8   \n",
       "1      Lenovo     128  Seafoam Green     27.81              13            8   \n",
       "2       REDMI     128  Graphite Gray     26.95             8.0            8   \n",
       "3     SAMSUNG     128       Graphite     27.94             8.0            5   \n",
       "4    MOTOROLA     128     Frost Blue     26.95             8.0            8   \n",
       "..        ...     ...            ...        ...            ...          ...   \n",
       "595     Apple      32     Space Grey     24.64             8.0            2   \n",
       "596   Alcatel      16  Volcano Black     17.78               8            5   \n",
       "597   SAMSUNG     128  Mystic Bronze      31.5              13            8   \n",
       "598     Apple     128           Gold     20.07             8.0          NaN   \n",
       "599     Apple     128     Space Grey     20.07             8.0          NaN   \n",
       "\n",
       "    Battery Warranty      Wifi Ratings  Price  \n",
       "0      7700        1  Wi-Fi+4G     4.3  15499  \n",
       "1      7040        1  Wi-Fi+4G     4.3  21999  \n",
       "2      8000        1     Wi-Fi     4.4  14999  \n",
       "3      5100        1  Wi-Fi+5G     4.5  24999  \n",
       "4      7700        1  Wi-Fi+4G     4.2  12999  \n",
       "..      ...      ...       ...     ...    ...  \n",
       "595     NaN        1     Wi-Fi     4.6  28000  \n",
       "596    4000        1  Wi-Fi+4G     3.6   6999  \n",
       "597   10090        1     Wi-Fi     4.7  51999  \n",
       "598     NaN        1     Wi-Fi     4.4  33800  \n",
       "599     NaN        1     Wi-Fi     4.4  33800  \n",
       "\n",
       "[600 rows x 11 columns]"
      ]
     },
     "execution_count": 11,
     "metadata": {},
     "output_type": "execute_result"
    }
   ],
   "source": [
    "df1 = pd.DataFrame(Dict1)\n",
    "df1"
   ]
  },
  {
   "cell_type": "markdown",
   "id": "c2d4da52",
   "metadata": {},
   "source": [
    "### EDA Process"
   ]
  },
  {
   "cell_type": "code",
   "execution_count": 12,
   "id": "76f32e8b",
   "metadata": {},
   "outputs": [
    {
     "data": {
      "text/html": [
       "<div>\n",
       "<style scoped>\n",
       "    .dataframe tbody tr th:only-of-type {\n",
       "        vertical-align: middle;\n",
       "    }\n",
       "\n",
       "    .dataframe tbody tr th {\n",
       "        vertical-align: top;\n",
       "    }\n",
       "\n",
       "    .dataframe thead th {\n",
       "        text-align: right;\n",
       "    }\n",
       "</style>\n",
       "<table border=\"1\" class=\"dataframe\">\n",
       "  <thead>\n",
       "    <tr style=\"text-align: right;\">\n",
       "      <th></th>\n",
       "      <th>Brand</th>\n",
       "      <th>Storage</th>\n",
       "      <th>Color</th>\n",
       "      <th>Display_Cm</th>\n",
       "      <th>Primary_Camera</th>\n",
       "      <th>Front_Camera</th>\n",
       "      <th>Battery</th>\n",
       "      <th>Warranty</th>\n",
       "      <th>Wifi</th>\n",
       "      <th>Ratings</th>\n",
       "      <th>Price</th>\n",
       "    </tr>\n",
       "  </thead>\n",
       "  <tbody>\n",
       "    <tr>\n",
       "      <th>count</th>\n",
       "      <td>600</td>\n",
       "      <td>547</td>\n",
       "      <td>583</td>\n",
       "      <td>600</td>\n",
       "      <td>600</td>\n",
       "      <td>561</td>\n",
       "      <td>322</td>\n",
       "      <td>484</td>\n",
       "      <td>581</td>\n",
       "      <td>592</td>\n",
       "      <td>600</td>\n",
       "    </tr>\n",
       "    <tr>\n",
       "      <th>unique</th>\n",
       "      <td>24</td>\n",
       "      <td>7</td>\n",
       "      <td>66</td>\n",
       "      <td>30</td>\n",
       "      <td>11</td>\n",
       "      <td>5</td>\n",
       "      <td>39</td>\n",
       "      <td>1</td>\n",
       "      <td>4</td>\n",
       "      <td>21</td>\n",
       "      <td>206</td>\n",
       "    </tr>\n",
       "    <tr>\n",
       "      <th>top</th>\n",
       "      <td>Apple</td>\n",
       "      <td>128</td>\n",
       "      <td>Silver</td>\n",
       "      <td>27.94</td>\n",
       "      <td>8.0</td>\n",
       "      <td>12</td>\n",
       "      <td>7700</td>\n",
       "      <td>1</td>\n",
       "      <td>Wi-Fi</td>\n",
       "      <td>4.7</td>\n",
       "      <td>15999</td>\n",
       "    </tr>\n",
       "    <tr>\n",
       "      <th>freq</th>\n",
       "      <td>259</td>\n",
       "      <td>191</td>\n",
       "      <td>87</td>\n",
       "      <td>91</td>\n",
       "      <td>142</td>\n",
       "      <td>184</td>\n",
       "      <td>75</td>\n",
       "      <td>484</td>\n",
       "      <td>249</td>\n",
       "      <td>149</td>\n",
       "      <td>35</td>\n",
       "    </tr>\n",
       "  </tbody>\n",
       "</table>\n",
       "</div>"
      ],
      "text/plain": [
       "        Brand Storage   Color Display_Cm Primary_Camera Front_Camera Battery  \\\n",
       "count     600     547     583        600            600          561     322   \n",
       "unique     24       7      66         30             11            5      39   \n",
       "top     Apple     128  Silver     27.94             8.0           12    7700   \n",
       "freq      259     191      87         91            142          184      75   \n",
       "\n",
       "       Warranty   Wifi Ratings  Price  \n",
       "count       484    581     592    600  \n",
       "unique        1      4      21    206  \n",
       "top           1  Wi-Fi     4.7  15999  \n",
       "freq        484    249     149     35  "
      ]
     },
     "execution_count": 12,
     "metadata": {},
     "output_type": "execute_result"
    }
   ],
   "source": [
    "df1.describe()"
   ]
  },
  {
   "cell_type": "code",
   "execution_count": 13,
   "id": "6dfabbc5",
   "metadata": {},
   "outputs": [
    {
     "name": "stdout",
     "output_type": "stream",
     "text": [
      "<class 'pandas.core.frame.DataFrame'>\n",
      "RangeIndex: 600 entries, 0 to 599\n",
      "Data columns (total 11 columns):\n",
      " #   Column          Non-Null Count  Dtype \n",
      "---  ------          --------------  ----- \n",
      " 0   Brand           600 non-null    object\n",
      " 1   Storage         547 non-null    object\n",
      " 2   Color           583 non-null    object\n",
      " 3   Display_Cm      600 non-null    object\n",
      " 4   Primary_Camera  600 non-null    object\n",
      " 5   Front_Camera    561 non-null    object\n",
      " 6   Battery         322 non-null    object\n",
      " 7   Warranty        484 non-null    object\n",
      " 8   Wifi            581 non-null    object\n",
      " 9   Ratings         592 non-null    object\n",
      " 10  Price           600 non-null    object\n",
      "dtypes: object(11)\n",
      "memory usage: 51.7+ KB\n"
     ]
    }
   ],
   "source": [
    "df1.info()"
   ]
  },
  {
   "cell_type": "markdown",
   "id": "a8cdc578",
   "metadata": {},
   "source": [
    "### Filling Null Values"
   ]
  },
  {
   "cell_type": "code",
   "execution_count": 27,
   "id": "b93aa6bd",
   "metadata": {},
   "outputs": [],
   "source": [
    "df1['Storage'] = df1['Storage'].fillna(0)\n",
    "df1[\"Battery\"] = df1[\"Battery\"].fillna(0)\n",
    "df1[\"Price\"] = df1[\"Price\"].fillna(0)\n",
    "df1['Warranty'] = df1['Warranty'].fillna(0)\n",
    "df1['Ratings'] = df1['Ratings'].fillna(0)\n",
    "df1['Wifi'] = df1['Wifi'].fillna(0)\n",
    "df1['Color'] = df1['Color'].fillna('Silver')\n",
    "df1['Battery'] = np.where((df1['Price'] > 0) & (df1['Price'] < 50000),6000,df1['Battery'])\n",
    "df1['Battery'] = np.where((df1['Price'] > 50000) & (df1['Price'] < 100000),6500,df1['Battery'])\n",
    "df1['Battery'] = np.where((df1['Price'] > 100000) & (df1['Price'] < 150000),7000,df1['Battery'])\n",
    "df1['Battery'] = np.where((df1['Price'] > 150000) & (df1['Price'] < 200000),7500,df1['Battery'])\n",
    "df1['Battery'] = np.where((df1['Price'] > 200000) & (df1['Price'] < 250000),8000,df1['Battery'])\n",
    "df1['Storage'] = np.where((df1['Price'] > 0) & (df1['Price'] < 100000),128,df1['Storage'])\n",
    "df1['Storage'] = np.where((df1['Price'] > 100000) & (df1['Price'] < 300000),256,df1['Storage'])\n",
    "df1['Primary_Camera'] = df1['Primary_Camera'].fillna(8)\n",
    "df1['Display_Cm'] = df1['Display_Cm'].fillna(20.32)\n",
    "df1['Front_Camera'] = np.where((df1['Price'] > 0) & (df1['Price'] < 20000),5,df1['Front_Camera'])\n",
    "df1['Front_Camera'] = np.where((df1['Price'] > 20000) & (df1['Price'] < 40000),8,df1['Front_Camera'])\n",
    "df1['Front_Camera'] = np.where((df1['Price'] > 40000) & (df1['Price'] < 60000),12,df1['Front_Camera'])"
   ]
  },
  {
   "cell_type": "markdown",
   "id": "771e1bb8",
   "metadata": {},
   "source": [
    "### Changing Datatype"
   ]
  },
  {
   "cell_type": "code",
   "execution_count": 30,
   "id": "eaedfb0f",
   "metadata": {},
   "outputs": [],
   "source": [
    "df1['Storage'] = df1['Storage'].astype('int')\n",
    "df1['Display_Cm'] = df1['Display_Cm'].astype('float')\n",
    "df1['Primary_Camera'] = df1['Primary_Camera'].astype('float')\n",
    "df1['Front_Camera'] = df1['Front_Camera'].astype('float')\n",
    "df1['Battery'] = df1['Battery'].astype('int')\n",
    "df1['Warranty'] = df1['Warranty'].astype('int')\n",
    "df1['Ratings'] = df1['Ratings'].astype('float')\n",
    "df1['Price'] = df1['Price'].astype('int')"
   ]
  },
  {
   "cell_type": "code",
   "execution_count": 31,
   "id": "0ec6e312",
   "metadata": {},
   "outputs": [
    {
     "name": "stdout",
     "output_type": "stream",
     "text": [
      "<class 'pandas.core.frame.DataFrame'>\n",
      "RangeIndex: 600 entries, 0 to 599\n",
      "Data columns (total 11 columns):\n",
      " #   Column          Non-Null Count  Dtype  \n",
      "---  ------          --------------  -----  \n",
      " 0   Brand           600 non-null    object \n",
      " 1   Storage         600 non-null    int32  \n",
      " 2   Color           600 non-null    object \n",
      " 3   Display_Cm      600 non-null    float64\n",
      " 4   Primary_Camera  600 non-null    float64\n",
      " 5   Front_Camera    600 non-null    float64\n",
      " 6   Battery         600 non-null    int32  \n",
      " 7   Warranty        600 non-null    int32  \n",
      " 8   Wifi            600 non-null    object \n",
      " 9   Ratings         600 non-null    float64\n",
      " 10  Price           600 non-null    int32  \n",
      "dtypes: float64(4), int32(4), object(3)\n",
      "memory usage: 42.3+ KB\n"
     ]
    }
   ],
   "source": [
    "df1.info()"
   ]
  },
  {
   "cell_type": "code",
   "execution_count": 32,
   "id": "624b20d0",
   "metadata": {},
   "outputs": [
    {
     "data": {
      "text/html": [
       "<div>\n",
       "<style scoped>\n",
       "    .dataframe tbody tr th:only-of-type {\n",
       "        vertical-align: middle;\n",
       "    }\n",
       "\n",
       "    .dataframe tbody tr th {\n",
       "        vertical-align: top;\n",
       "    }\n",
       "\n",
       "    .dataframe thead th {\n",
       "        text-align: right;\n",
       "    }\n",
       "</style>\n",
       "<table border=\"1\" class=\"dataframe\">\n",
       "  <thead>\n",
       "    <tr style=\"text-align: right;\">\n",
       "      <th></th>\n",
       "      <th>Storage</th>\n",
       "      <th>Display_Cm</th>\n",
       "      <th>Primary_Camera</th>\n",
       "      <th>Front_Camera</th>\n",
       "      <th>Battery</th>\n",
       "      <th>Warranty</th>\n",
       "      <th>Ratings</th>\n",
       "      <th>Price</th>\n",
       "    </tr>\n",
       "  </thead>\n",
       "  <tbody>\n",
       "    <tr>\n",
       "      <th>count</th>\n",
       "      <td>600.000000</td>\n",
       "      <td>600.000000</td>\n",
       "      <td>600.000000</td>\n",
       "      <td>600.000000</td>\n",
       "      <td>600.000000</td>\n",
       "      <td>600.000000</td>\n",
       "      <td>600.000000</td>\n",
       "      <td>600.000000</td>\n",
       "    </tr>\n",
       "    <tr>\n",
       "      <th>mean</th>\n",
       "      <td>146.773333</td>\n",
       "      <td>27.184333</td>\n",
       "      <td>10.115500</td>\n",
       "      <td>8.368333</td>\n",
       "      <td>6300.000000</td>\n",
       "      <td>0.806667</td>\n",
       "      <td>4.388167</td>\n",
       "      <td>53209.100000</td>\n",
       "    </tr>\n",
       "    <tr>\n",
       "      <th>std</th>\n",
       "      <td>45.320767</td>\n",
       "      <td>3.627039</td>\n",
       "      <td>2.493091</td>\n",
       "      <td>2.996826</td>\n",
       "      <td>471.207733</td>\n",
       "      <td>0.395242</td>\n",
       "      <td>0.609258</td>\n",
       "      <td>50001.708311</td>\n",
       "    </tr>\n",
       "    <tr>\n",
       "      <th>min</th>\n",
       "      <td>128.000000</td>\n",
       "      <td>17.780000</td>\n",
       "      <td>0.300000</td>\n",
       "      <td>5.000000</td>\n",
       "      <td>6000.000000</td>\n",
       "      <td>0.000000</td>\n",
       "      <td>0.000000</td>\n",
       "      <td>3499.000000</td>\n",
       "    </tr>\n",
       "    <tr>\n",
       "      <th>25%</th>\n",
       "      <td>128.000000</td>\n",
       "      <td>25.910000</td>\n",
       "      <td>8.000000</td>\n",
       "      <td>5.000000</td>\n",
       "      <td>6000.000000</td>\n",
       "      <td>1.000000</td>\n",
       "      <td>4.300000</td>\n",
       "      <td>15999.000000</td>\n",
       "    </tr>\n",
       "    <tr>\n",
       "      <th>50%</th>\n",
       "      <td>128.000000</td>\n",
       "      <td>26.950000</td>\n",
       "      <td>12.000000</td>\n",
       "      <td>8.000000</td>\n",
       "      <td>6000.000000</td>\n",
       "      <td>1.000000</td>\n",
       "      <td>4.500000</td>\n",
       "      <td>33800.000000</td>\n",
       "    </tr>\n",
       "    <tr>\n",
       "      <th>75%</th>\n",
       "      <td>128.000000</td>\n",
       "      <td>27.940000</td>\n",
       "      <td>12.000000</td>\n",
       "      <td>12.000000</td>\n",
       "      <td>6500.000000</td>\n",
       "      <td>1.000000</td>\n",
       "      <td>4.700000</td>\n",
       "      <td>71900.000000</td>\n",
       "    </tr>\n",
       "    <tr>\n",
       "      <th>max</th>\n",
       "      <td>256.000000</td>\n",
       "      <td>37.080000</td>\n",
       "      <td>13.000000</td>\n",
       "      <td>12.000000</td>\n",
       "      <td>8000.000000</td>\n",
       "      <td>1.000000</td>\n",
       "      <td>5.000000</td>\n",
       "      <td>249900.000000</td>\n",
       "    </tr>\n",
       "  </tbody>\n",
       "</table>\n",
       "</div>"
      ],
      "text/plain": [
       "          Storage  Display_Cm  Primary_Camera  Front_Camera      Battery  \\\n",
       "count  600.000000  600.000000      600.000000    600.000000   600.000000   \n",
       "mean   146.773333   27.184333       10.115500      8.368333  6300.000000   \n",
       "std     45.320767    3.627039        2.493091      2.996826   471.207733   \n",
       "min    128.000000   17.780000        0.300000      5.000000  6000.000000   \n",
       "25%    128.000000   25.910000        8.000000      5.000000  6000.000000   \n",
       "50%    128.000000   26.950000       12.000000      8.000000  6000.000000   \n",
       "75%    128.000000   27.940000       12.000000     12.000000  6500.000000   \n",
       "max    256.000000   37.080000       13.000000     12.000000  8000.000000   \n",
       "\n",
       "         Warranty     Ratings          Price  \n",
       "count  600.000000  600.000000     600.000000  \n",
       "mean     0.806667    4.388167   53209.100000  \n",
       "std      0.395242    0.609258   50001.708311  \n",
       "min      0.000000    0.000000    3499.000000  \n",
       "25%      1.000000    4.300000   15999.000000  \n",
       "50%      1.000000    4.500000   33800.000000  \n",
       "75%      1.000000    4.700000   71900.000000  \n",
       "max      1.000000    5.000000  249900.000000  "
      ]
     },
     "execution_count": 32,
     "metadata": {},
     "output_type": "execute_result"
    }
   ],
   "source": [
    "df1.describe()\n"
   ]
  },
  {
   "cell_type": "code",
   "execution_count": 34,
   "id": "fd0c4e5e",
   "metadata": {},
   "outputs": [
    {
     "data": {
      "text/plain": [
       "159"
      ]
     },
     "execution_count": 34,
     "metadata": {},
     "output_type": "execute_result"
    }
   ],
   "source": [
    "df1.duplicated().sum()"
   ]
  },
  {
   "cell_type": "markdown",
   "id": "c99d22fe",
   "metadata": {},
   "source": [
    "### Outlier Detection"
   ]
  },
  {
   "cell_type": "code",
   "execution_count": 37,
   "id": "6225015e",
   "metadata": {},
   "outputs": [
    {
     "data": {
      "text/plain": [
       "<Axes: >"
      ]
     },
     "execution_count": 37,
     "metadata": {},
     "output_type": "execute_result"
    },
    {
     "data": {
      "image/png": "[encoded data removed]",
      "text/plain": [
       "<Figure size 640x480 with 1 Axes>"
      ]
     },
     "metadata": {},
     "output_type": "display_data"
    }
   ],
   "source": [
    "sea.boxplot(df1.Price)"
   ]
  },
  {
   "cell_type": "code",
   "execution_count": 41,
   "id": "50f26b1c",
   "metadata": {},
   "outputs": [
    {
     "data": {
      "text/plain": [
       "<Axes: xlabel='Brand', ylabel='Price'>"
      ]
     },
     "execution_count": 41,
     "metadata": {},
     "output_type": "execute_result"
    },
    {
     "data": {
      "image/png": "[encoded data removed]",
      "text/plain": [
       "<Figure size 1500x400 with 1 Axes>"
      ]
     },
     "metadata": {},
     "output_type": "display_data"
    }
   ],
   "source": [
    "plt.figure(figsize=(15,4))\n",
    "sea.barplot(data=df1,x='Brand',y='Price')"
   ]
  },
  {
   "cell_type": "code",
   "execution_count": 43,
   "id": "f6993af8",
   "metadata": {},
   "outputs": [
    {
     "data": {
      "text/plain": [
       "<Axes: xlabel='Brand', ylabel='Storage'>"
      ]
     },
     "execution_count": 43,
     "metadata": {},
     "output_type": "execute_result"
    },
    {
     "data": {
      "image/png": "[encoded data removed]",
      "text/plain": [
       "<Figure size 1500x400 with 1 Axes>"
      ]
     },
     "metadata": {},
     "output_type": "display_data"
    }
   ],
   "source": [
    "plt.figure(figsize=(15,4))\n",
    "sea.barplot(data=df1,x='Brand',y='Storage')"
   ]
  },
  {
   "cell_type": "code",
   "execution_count": 44,
   "id": "aa52a513",
   "metadata": {},
   "outputs": [
    {
     "data": {
      "text/plain": [
       "<Axes: xlabel='Brand', ylabel='Battery'>"
      ]
     },
     "execution_count": 44,
     "metadata": {},
     "output_type": "execute_result"
    },
    {
     "data": {
      "image/png": "[encoded data removed]",
      "text/plain": [
       "<Figure size 1500x400 with 1 Axes>"
      ]
     },
     "metadata": {},
     "output_type": "display_data"
    }
   ],
   "source": [
    "plt.figure(figsize=(15,4))\n",
    "sea.barplot(data=df1,x='Brand',y='Battery')"
   ]
  },
  {
   "cell_type": "code",
   "execution_count": 45,
   "id": "8ed41665",
   "metadata": {},
   "outputs": [
    {
     "data": {
      "text/plain": [
       "<Axes: xlabel='Brand', ylabel='Primary_Camera'>"
      ]
     },
     "execution_count": 45,
     "metadata": {},
     "output_type": "execute_result"
    },
    {
     "data": {
      "image/png": "[encoded data removed]",
      "text/plain": [
       "<Figure size 1500x400 with 1 Axes>"
      ]
     },
     "metadata": {},
     "output_type": "display_data"
    }
   ],
   "source": [
    "plt.figure(figsize=(15,4))\n",
    "sea.barplot(data=df1,x='Brand',y='Primary_Camera')"
   ]
  },
  {
   "cell_type": "markdown",
   "id": "516486c2",
   "metadata": {},
   "source": [
    "# Conclusion\n",
    "- According to Price,Storage and Camera \"Samsung\" is the best choice."
   ]
  },
  {
   "cell_type": "code",
   "execution_count": null,
   "id": "23fb5667",
   "metadata": {},
   "outputs": [],
   "source": []
  }
 ],
 "metadata": {
  "kernelspec": {
   "display_name": "Python 3 (ipykernel)",
   "language": "python",
   "name": "python3"
  },
  "language_info": {
   "codemirror_mode": {
    "name": "ipython",
    "version": 3
   },
   "file_extension": ".py",
   "mimetype": "text/x-python",
   "name": "python",
   "nbconvert_exporter": "python",
   "pygments_lexer": "ipython3",
   "version": "3.11.5"
  }
 },
 "nbformat": 4,
 "nbformat_minor": 5
}
